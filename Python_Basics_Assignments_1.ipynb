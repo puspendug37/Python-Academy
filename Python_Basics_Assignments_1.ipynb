{
  "nbformat": 4,
  "nbformat_minor": 0,
  "metadata": {
    "colab": {
      "provenance": []
    },
    "kernelspec": {
      "name": "python3",
      "display_name": "Python 3"
    },
    "language_info": {
      "name": "python"
    }
  },
  "cells": [
    {
      "cell_type": "markdown",
      "source": [
        "# **Q.1  Explain the key features of Python that make it a popular choice for programming.**\n",
        "\n",
        "**Ans.** **The key features of Python that makes it a popular choice for programming are-**\n",
        "\n",
        "    1. Important programming language and widely used in the industry.\n",
        "    2. Python has a lot of libraries (1,37,000). It has a community that others can use codes.\n",
        "    3. We can develop any software by using Python.\n",
        "    4. We can do Frontend, Backend, Data Analysis, etc.\n",
        "    5. We can do automation by Python.\n",
        "    6. We can do Image Processing.\n",
        "    7. Ease of Learning.\n",
        "    8. It has a huge active community.\n",
        "    9. We can do mathematical research.\n",
        "    10. Analyzing the data, Interpret graphs, Data Visualization, Data Science, Machine Learning, DL, NLP & AI (These are the used cases of Python).\n",
        "\n",
        "\n"
      ],
      "metadata": {
        "id": "1WMo7qnflVFW"
      }
    },
    {
      "cell_type": "markdown",
      "source": [
        "# **Q.2 Describe the role of predefined keywords in Python and provide examples of how they are used in a program.**\n",
        "\n",
        "\n",
        "**Ans.** **Predefined keywords in python are predefined words that holds a special meaning and have specific purpose. They are also known as reserved words in a programming language. These words are reserved by language and cannot be used as variable names or any other identifiers.  \n",
        "Here is the list of the Python Predefine Keywords-\n",
        "False, Class, From, or, None, Continue, global, pass, True, def, if, raise, and, del, import, return, as, elif, in, try, assert, else, is, while, async, except, lambda, with, await, finally, non local, yield, break, for, not.**\n",
        "\n",
        "**Example:-**\n",
        "\n",
        "\n"
      ],
      "metadata": {
        "id": "z78SKfjToFMN"
      }
    },
    {
      "cell_type": "code",
      "source": [
        "#1. False, True>> Represent boolean values. False is used to indicate a negative or false condition, while True is used for a\n",
        "                  #positive or true condition.\n",
        "is_active = True\n",
        "\n",
        "if is_active:\n",
        "    print(\"The system is active.\")\n",
        "else:\n",
        "    print(\"The system is not active.\")"
      ],
      "metadata": {
        "colab": {
          "base_uri": "https://localhost:8080/"
        },
        "id": "kV-y_AzKpcVe",
        "outputId": "724dcec1-3454-460a-b79f-2f6eba379504"
      },
      "execution_count": null,
      "outputs": [
        {
          "output_type": "stream",
          "name": "stdout",
          "text": [
            "The system is active.\n"
          ]
        }
      ]
    },
    {
      "cell_type": "code",
      "source": [
        "#2. None>> Represents the absence of a value or a null value. It is often used as a default value for function arguments or\n",
        "           #to signify that a variable has not been set.\n",
        "def greet(name=None):\n",
        "    if name is None:\n",
        "        print(\"Hello, guest!\")\n",
        "    else:\n",
        "        print(f\"Hello, {name}!\")\n",
        "\n",
        "greet()\n",
        "greet(\"Puspendu\")"
      ],
      "metadata": {
        "colab": {
          "base_uri": "https://localhost:8080/"
        },
        "id": "Cb-toAdApn91",
        "outputId": "66364d3c-929b-478b-d172-903fd08e774c"
      },
      "execution_count": null,
      "outputs": [
        {
          "output_type": "stream",
          "name": "stdout",
          "text": [
            "Hello, guest!\n",
            "Hello, Puspendu!\n"
          ]
        }
      ]
    },
    {
      "cell_type": "code",
      "source": [
        "#3. and, or, not>> Logical operators used for combining or negating boolean expressions.\n",
        "x = 5\n",
        "y = 10\n",
        "\n",
        "if x < 10 and y > 5:\n",
        "    print(\"Both conditions are True.\")\n",
        "else:\n",
        "    print(\"At least one condition is False.\")"
      ],
      "metadata": {
        "colab": {
          "base_uri": "https://localhost:8080/"
        },
        "id": "GJCPd20mpuSF",
        "outputId": "50517efc-9b61-488d-ea5f-fc413749aa0f"
      },
      "execution_count": null,
      "outputs": [
        {
          "output_type": "stream",
          "name": "stdout",
          "text": [
            "Both conditions are True.\n"
          ]
        }
      ]
    },
    {
      "cell_type": "code",
      "source": [
        "#4. if, elif, else>> Used for conditional statements to control the flow of the program based on conditions.\n",
        "age = 20\n",
        "\n",
        "if age < 18:\n",
        "    print(\"You are a minor.\")\n",
        "elif 18 <= age < 65:\n",
        "    print(\"You are an adult.\")\n",
        "else:\n",
        "    print(\"You are a senior.\")"
      ],
      "metadata": {
        "colab": {
          "base_uri": "https://localhost:8080/"
        },
        "id": "sfmnFtM-p2aM",
        "outputId": "6c050a9d-96ae-40d4-e9af-07893f986a84"
      },
      "execution_count": null,
      "outputs": [
        {
          "output_type": "stream",
          "name": "stdout",
          "text": [
            "You are an adult.\n"
          ]
        }
      ]
    },
    {
      "cell_type": "code",
      "source": [
        "# 5. for, while, break, continue>> Used for loops and control flow within loops\n",
        "# for: Used to iterate over sequences.\n",
        "# while: Used to loop while a condition is true.\n",
        "# break: Exits the loop prematurely.\n",
        "# continue: Skips the rest of the code inside the loop for the current iteration.\n",
        "\n",
        "for i in range(5):\n",
        "    if i == 3:\n",
        "        continue\n",
        "    print(i)"
      ],
      "metadata": {
        "colab": {
          "base_uri": "https://localhost:8080/"
        },
        "id": "ROE0gTFbp-Ct",
        "outputId": "38591d22-9da6-45ec-cb90-101d226396b8"
      },
      "execution_count": null,
      "outputs": [
        {
          "output_type": "stream",
          "name": "stdout",
          "text": [
            "0\n",
            "1\n",
            "2\n",
            "4\n"
          ]
        }
      ]
    },
    {
      "cell_type": "code",
      "source": [
        "#6. def, return>> Used for defining functions and returning values from functions.\n",
        "\n",
        "def square(number):\n",
        "    return number * number\n",
        "\n",
        "result = square(4)\n",
        "print(result)"
      ],
      "metadata": {
        "colab": {
          "base_uri": "https://localhost:8080/"
        },
        "id": "vYIRf2xNqWIl",
        "outputId": "3698d63b-43ed-4cda-a9d3-467b0b22b151"
      },
      "execution_count": null,
      "outputs": [
        {
          "output_type": "stream",
          "name": "stdout",
          "text": [
            "16\n"
          ]
        }
      ]
    },
    {
      "cell_type": "code",
      "source": [
        "#7. class, self>> Used for defining classes and instance methods within those classes.\n",
        "\n",
        "class Dog:\n",
        "    def __init__(self, name):\n",
        "        self.name = name\n",
        "\n",
        "    def bark(self):\n",
        "        return f\"{self.name} says Woof!\"\n",
        "\n",
        "my_dog = Dog(\"Buddy\")\n",
        "print(my_dog.bark())"
      ],
      "metadata": {
        "colab": {
          "base_uri": "https://localhost:8080/"
        },
        "id": "m8ci3BtXqX_8",
        "outputId": "fc940cb3-4e7f-48f3-b511-dee8c73cdeea"
      },
      "execution_count": null,
      "outputs": [
        {
          "output_type": "stream",
          "name": "stdout",
          "text": [
            "Buddy says Woof!\n"
          ]
        }
      ]
    },
    {
      "cell_type": "code",
      "source": [
        "#8. try, except, finally, raise>> Used for handling exceptions and managing errors.\n",
        "# try: Starts a block of code that may raise an exception.\n",
        "# except: Catches and handles exceptions raised in the try block.\n",
        "# finally: Executes code regardless of whether an exception occurred or not.\n",
        "# raise: Used to manually raise an exception.\n",
        "\n",
        "try:\n",
        "    result = 10 / 0\n",
        "except ZeroDivisionError:\n",
        "    print(\"Cannot divide by zero.\")\n",
        "finally:\n",
        "    print(\"This will always execute.\")"
      ],
      "metadata": {
        "colab": {
          "base_uri": "https://localhost:8080/"
        },
        "id": "eULGViCvqfqk",
        "outputId": "d4ebc33c-2ca3-415d-8bf6-e0ede0203156"
      },
      "execution_count": null,
      "outputs": [
        {
          "output_type": "stream",
          "name": "stdout",
          "text": [
            "Cannot divide by zero.\n",
            "This will always execute.\n"
          ]
        }
      ]
    },
    {
      "cell_type": "code",
      "source": [
        "#9. import, from, as>> Used for importing modules and components from modules.\n",
        "\n",
        "import math\n",
        "from datetime import datetime as dt\n",
        "\n",
        "print(math.sqrt(16))\n",
        "print(dt.now())"
      ],
      "metadata": {
        "colab": {
          "base_uri": "https://localhost:8080/"
        },
        "id": "zXhfZd8PqmON",
        "outputId": "38a2c9cc-d934-461c-c4bf-89fab51a4f71"
      },
      "execution_count": null,
      "outputs": [
        {
          "output_type": "stream",
          "name": "stdout",
          "text": [
            "4.0\n",
            "2024-10-06 07:09:55.754036\n"
          ]
        }
      ]
    },
    {
      "cell_type": "markdown",
      "source": [
        "# **Q.3 Compare and contrast mutable and immutable objects in Python with examples.**\n",
        "\n",
        "**Ans.** In python objects can be either changeable or unchangeable.\n",
        "\n",
        "**Mutable Objects**- Mutable objects can be changed after their creation. This means that you can modify their content without changing their identity (memory address).\n",
        "\n",
        "    Examples:\n",
        "            1. Lists\n",
        "            2. Dictionaries\n",
        "            3. Sets\n",
        "\n",
        "**Behavior:**\n",
        "      \n",
        "      1. Modification: You can change the contents of a mutable object. For instance, you can add, remove, or alter elements in a list or dictionary.\n",
        "      2. Identity: Even after modification, the object’s identity remains the same (its memory address does not change).\n",
        "\n",
        "**Immutable Objects**- Immutable objects cannot be changed once they are created. Any operation that modifies the object will result in the creation of a new object with a new identity.\n",
        "\n",
        "    Example:\n",
        "          1. Strings\n",
        "          2. Tuples\n",
        "          3. Integers\n",
        "          4. Floats\n",
        "\n",
        "**Behavior:**\n",
        "      \n",
        "      1. Modification: Modifying an immutable object results in the creation of a new object rather than changing the original object.\n",
        "      2. Identity: Since the original object cannot be altered, its identity remains consistent unless a new object is created.\n",
        "\n",
        "**Example:-**\n",
        "\n",
        "\n",
        "\n",
        "\n",
        "\n",
        "\n"
      ],
      "metadata": {
        "id": "pR3vQbffq7zW"
      }
    },
    {
      "cell_type": "code",
      "source": [
        "#Mutable Objects\n",
        "\n",
        "# Mutable Example: List\n",
        "my_list = [1, 2, 3]\n",
        "print(id(my_list))  # Prints the memory address of my_list\n",
        "\n",
        "my_list.append(4)  # Modify the list\n",
        "print(my_list)\n",
        "print(id(my_list))  # The memory address remains the same\n",
        "\n",
        "# Mutable Example: Dictionary\n",
        "my_dict = {'a': 1, 'b': 2}\n",
        "print(id(my_dict))  # Prints the memory address of my_dict\n",
        "\n",
        "my_dict['c'] = 3    # Modify the dictionary\n",
        "print(my_dict)\n",
        "print(id(my_dict))  # The memory address remains the same"
      ],
      "metadata": {
        "colab": {
          "base_uri": "https://localhost:8080/"
        },
        "id": "6qotgiJwt2r1",
        "outputId": "afaa6a39-ecc8-411d-cbca-6213ab3551e6"
      },
      "execution_count": null,
      "outputs": [
        {
          "output_type": "stream",
          "name": "stdout",
          "text": [
            "139084597669056\n",
            "[1, 2, 3, 4]\n",
            "139084597669056\n",
            "139084597658240\n",
            "{'a': 1, 'b': 2, 'c': 3}\n",
            "139084597658240\n"
          ]
        }
      ]
    },
    {
      "cell_type": "code",
      "source": [
        "#Immutable Objects\n",
        "\n",
        "# Immutable Example: String\n",
        "my_string = \"Hello\"\n",
        "print(id(my_string))  # Prints the memory address of my_string\n",
        "\n",
        "my_string = my_string + \" World\"  # Create a new string\n",
        "print(my_string)\n",
        "print(id(my_string))  # The memory address is different from the original\n",
        "\n",
        "# Immutable Example: Tuple\n",
        "my_tuple = (1, 2, 3)\n",
        "print(id(my_tuple))  # Prints the memory address of my_tuple\n",
        "\n",
        "my_tuple = my_tuple + (4,)  # Create a new tuple\n",
        "print(my_tuple)\n",
        "print(id(my_tuple))  # The memory address is different from the original"
      ],
      "metadata": {
        "colab": {
          "base_uri": "https://localhost:8080/"
        },
        "id": "0ylCyoN5uD2U",
        "outputId": "74f36f69-5472-4720-a79d-8ccebfaacf10"
      },
      "execution_count": null,
      "outputs": [
        {
          "output_type": "stream",
          "name": "stdout",
          "text": [
            "139084597682928\n",
            "Hello World\n",
            "139084604616944\n",
            "139084604549696\n",
            "(1, 2, 3, 4)\n",
            "139084797615440\n"
          ]
        }
      ]
    },
    {
      "cell_type": "markdown",
      "source": [
        "# **Q.4 Discuss the different types of operators in Python and provide examples of how they are used.**\n",
        "\n",
        "**Ans.** In Python, operators are special symbols or keywords that perform operations on values or variables. Python supports a variety of operators, each serving a different purpose. Here's a breakdown of the different types of operators and examples of how they are used:\n",
        "\n",
        "1. **Arithmetic Operators** - Arithmetic operators are used for basic mathematical operations.\n",
        "2. **Comparison Operators** - Comparison operators are used to compare values and return a Boolean result (True or False).\n",
        "3. **Logical Operators** - Logical operators are used to combining conditional statements.\n",
        "4. **Assignment Operators** - Assignment operators are used to assign values to variables.\n",
        "5. **Bitwise Operators** - Bitwise operators are used for bit-level operations.\n",
        "6. **Membership Operators** - Membership operators test for membership in a sequence.\n",
        "7. **Identity Operators** - Identity operators compare the memory locations of two objects.\n",
        "\n",
        "**Arithmetic Operators Example:-**\n",
        "\n"
      ],
      "metadata": {
        "id": "8BQdFUjouJHU"
      }
    },
    {
      "cell_type": "code",
      "source": [
        "# Adding two integers\n",
        "a = 5\n",
        "b = 3\n",
        "result = a + b\n",
        "print(result)"
      ],
      "metadata": {
        "colab": {
          "base_uri": "https://localhost:8080/"
        },
        "id": "zJARZVFbwqhM",
        "outputId": "460df73e-8d1e-4cc5-e21b-d701590a4f15"
      },
      "execution_count": null,
      "outputs": [
        {
          "output_type": "stream",
          "name": "stdout",
          "text": [
            "8\n"
          ]
        }
      ]
    },
    {
      "cell_type": "code",
      "source": [
        "# Subtracting two integers\n",
        "a = 10\n",
        "b = 4\n",
        "result = a - b\n",
        "print(result)\n"
      ],
      "metadata": {
        "colab": {
          "base_uri": "https://localhost:8080/"
        },
        "id": "SHRTpiu6xavM",
        "outputId": "2c8aa9fe-cd2b-4089-ecdd-6ef352b65d18"
      },
      "execution_count": null,
      "outputs": [
        {
          "output_type": "stream",
          "name": "stdout",
          "text": [
            "6\n"
          ]
        }
      ]
    },
    {
      "cell_type": "code",
      "source": [
        "# Multiplying two integers\n",
        "a = 6\n",
        "b = 7\n",
        "result = a * b\n",
        "print(result)\n"
      ],
      "metadata": {
        "colab": {
          "base_uri": "https://localhost:8080/"
        },
        "id": "d3vC6zq0yHjU",
        "outputId": "6b5d8bb7-6780-477a-e011-f1fd10a2c09d"
      },
      "execution_count": null,
      "outputs": [
        {
          "output_type": "stream",
          "name": "stdout",
          "text": [
            "42\n"
          ]
        }
      ]
    },
    {
      "cell_type": "code",
      "source": [
        "# Floating-point division\n",
        "a = 10\n",
        "b = 3\n",
        "result = a / b\n",
        "print(result)\n"
      ],
      "metadata": {
        "colab": {
          "base_uri": "https://localhost:8080/"
        },
        "id": "CdRazhZjyRUU",
        "outputId": "23371eb6-e298-46bb-c477-1250ceec672e"
      },
      "execution_count": null,
      "outputs": [
        {
          "output_type": "stream",
          "name": "stdout",
          "text": [
            "3.3333333333333335\n"
          ]
        }
      ]
    },
    {
      "cell_type": "code",
      "source": [
        "# Integer (floor) division\n",
        "result = a // b\n",
        "print(result)\n"
      ],
      "metadata": {
        "colab": {
          "base_uri": "https://localhost:8080/"
        },
        "id": "rIctkwYlybhk",
        "outputId": "0aca18e7-9530-49f9-df86-f9fdbea86905"
      },
      "execution_count": null,
      "outputs": [
        {
          "output_type": "stream",
          "name": "stdout",
          "text": [
            "3\n"
          ]
        }
      ]
    },
    {
      "cell_type": "code",
      "source": [
        "# Modulus with integers\n",
        "a = 10\n",
        "b = 3\n",
        "result = a % b\n",
        "print(result)\n"
      ],
      "metadata": {
        "colab": {
          "base_uri": "https://localhost:8080/"
        },
        "id": "rlYcXcb5yl3k",
        "outputId": "b5c43715-a0f6-46fc-868b-dba8be0a8083"
      },
      "execution_count": null,
      "outputs": [
        {
          "output_type": "stream",
          "name": "stdout",
          "text": [
            "1\n"
          ]
        }
      ]
    },
    {
      "cell_type": "code",
      "source": [
        "# Exponentiation with integers\n",
        "base = 2\n",
        "exponent = 3\n",
        "result = base ** exponent\n",
        "print(result)\n"
      ],
      "metadata": {
        "colab": {
          "base_uri": "https://localhost:8080/"
        },
        "id": "8h37Z8H0yxcs",
        "outputId": "f7ba8d20-ade1-4c30-b7c9-d5e068387b5f"
      },
      "execution_count": null,
      "outputs": [
        {
          "output_type": "stream",
          "name": "stdout",
          "text": [
            "8\n"
          ]
        }
      ]
    },
    {
      "cell_type": "markdown",
      "source": [
        "**Comparison Operators Examples:-**"
      ],
      "metadata": {
        "id": "_BWTskEpzEvG"
      }
    },
    {
      "cell_type": "code",
      "source": [
        "#Equal to (==): Checks if two values are equal.\n",
        "result = (a == b)  # result is False\n",
        "\n",
        "#Not equal to (!=): Checks if two values are not equal.\n",
        "result = (a != b)  # result is True\n",
        "\n",
        "#Greater than (>): Checks if one value is greater than another.\n",
        "result = (a > b)  # result is True\n",
        "\n",
        "#Less than (<): Checks if one value is less than another.\n",
        "result = (a < b)  # result is False\n",
        "\n",
        "#Greater than or equal to (>=): Checks if one value is greater than or equal to another.\n",
        "result = (a >= b)  # result is True\n",
        "\n",
        "#Less than or equal to (<=): Checks if one value is less than or equal to another.\n",
        "result = (a <= b)  # result is False"
      ],
      "metadata": {
        "id": "wPvwRJ9TzNxk"
      },
      "execution_count": null,
      "outputs": []
    },
    {
      "cell_type": "markdown",
      "source": [
        "**Logical Operator Examples:-**"
      ],
      "metadata": {
        "id": "aPhFAGlzzrjW"
      }
    },
    {
      "cell_type": "code",
      "source": [
        "#3. Logical Operators\n",
        "\n",
        "#And (and): Returns True if both conditions are true.\n",
        "result = (a > b) and (b > 0)  # result is True\n",
        "\n",
        "#Or (or): Returns True if at least one condition is true.\n",
        "result = (a > b) or (b < 0)  # result is True\n",
        "\n",
        "#Not (not): Returns True if the condition is false\n",
        "result = not (a > b)  # result is False"
      ],
      "metadata": {
        "id": "VepZ2xZpzzFU"
      },
      "execution_count": null,
      "outputs": []
    },
    {
      "cell_type": "markdown",
      "source": [
        "**Assignment Operators Examples:-**"
      ],
      "metadata": {
        "id": "iF--hoHBz0-s"
      }
    },
    {
      "cell_type": "code",
      "source": [
        "#Assignment (=): Assigns a value to a variable.\n",
        "x = 10\n",
        "\n",
        "#Addition Assignment (+=): Adds a value to a variable and assigns the result.\n",
        "x += 5  # x is now 15\n",
        "\n",
        "#Subtraction Assignment (-=): Subtracts a value from a variable and assigns the result.\n",
        "x -= 3  # x is now 12\n",
        "\n",
        "#Multiplication Assignment (*=): Multiplies a variable by a value and assigns the result.\n",
        "x *= 2  # x is now 24\n",
        "\n",
        "#Division Assignment (/=): Divides a variable by a value and assigns the result.\n",
        "x /= 4  # x is now 6.0\n",
        "\n",
        "#Modulus Assignment (%=): Applies the modulus operation and assigns the result.\n",
        "x %= 4  # x is now 2.0\n",
        "\n",
        "#Exponentiation Assignment (**=): Raises a variable to the power of a value and assigns the result.\n",
        "x **= 3  # x is now 8.0\n",
        "\n",
        "#Floor Division Assignment (//=): Applies floor division and assigns the result.\n",
        "x //= 3  # x is now 2.0"
      ],
      "metadata": {
        "id": "1cD2zvFmz_Oc"
      },
      "execution_count": null,
      "outputs": []
    },
    {
      "cell_type": "markdown",
      "source": [
        "**Bitwise Operators Exampes:-**"
      ],
      "metadata": {
        "id": "kxc61y2L0b4l"
      }
    },
    {
      "cell_type": "code",
      "source": [
        "#AND (&): Performs a bitwise AND operation.\n",
        "a = 6  # 0110 in binary\n",
        "b = 3  # 0011 in binary\n",
        "result = a & b  # result is 2 (0010 in binary)\n",
        "\n",
        "#OR (|): Performs a bitwise OR operation.\n",
        "result = a | b  # result is 7 (0111 in binary)\n",
        "\n",
        "#XOR (^): Performs a bitwise XOR operation\n",
        "result = a ^ b  # result is 5 (0101 in binary)\n",
        "\n",
        "#Complement (~): Performs a bitwise NOT operation\n",
        "result = ~a  # result is -7 (inverted bits of 0110)\n",
        "\n",
        "#Left Shift (<<): Shifts bits to the left.\n",
        "result = a << 1  # result is 12 (1100 in binary)\n",
        "\n",
        "#Right Shift (>>): Shifts bits to the right.\n",
        "result = a >> 1  # result is 3 (0011 in binary)"
      ],
      "metadata": {
        "id": "Hud0sWFY0mA9"
      },
      "execution_count": null,
      "outputs": []
    },
    {
      "cell_type": "markdown",
      "source": [
        "**Membership Operators Examples:-**"
      ],
      "metadata": {
        "id": "b-SX3lj-0pK8"
      }
    },
    {
      "cell_type": "code",
      "source": [
        "#In (in): Checks if a value exists in a sequence.\n",
        "my_list = [1, 2, 3]\n",
        "result = 2 in my_list  # result is True\n",
        "\n",
        "#Not in (not in): Checks if a value does not exist in a sequence.\n",
        "result = 4 not in my_list  # result is True"
      ],
      "metadata": {
        "id": "xVjd3oEh0vE9"
      },
      "execution_count": null,
      "outputs": []
    },
    {
      "cell_type": "markdown",
      "source": [
        "**Identity Operators Examples:-**"
      ],
      "metadata": {
        "id": "G9pDQxxM0x78"
      }
    },
    {
      "cell_type": "code",
      "source": [
        "#Is (is): Checks if two variables refer to the same object.\n",
        "a = [1, 2, 3]\n",
        "b = a\n",
        "result = (a is b)  # result is True\n",
        "\n",
        "#Is not (is not): Checks if two variables do not refer to the same object.\n",
        "c = [1, 2, 3]\n",
        "result = (a is not c)  # result is True\n",
        "\n"
      ],
      "metadata": {
        "id": "Gma6sWcs0478"
      },
      "execution_count": null,
      "outputs": []
    },
    {
      "cell_type": "markdown",
      "source": [
        "# **Q.5 Explain the concept of type casting in Python with examples.**\n",
        "\n",
        "**Ans.** Type casting, or type conversion, in Python refers to the process of converting one data type into another. This is often necessary when performing operations that require operands to be of the same type, or when you need to ensure that data is in a specific format. Python provides several built-in functions to perform type casting.\n",
        "\n",
        "Here’s a breakdown of common type casting methods and examples:\n"
      ],
      "metadata": {
        "id": "tOYN0eR_0_Sf"
      }
    },
    {
      "cell_type": "code",
      "source": [
        "#1. Integer (int)>> Converts a value to an integer.\n",
        "#From Float: Converts a floating-point number to an integer by truncating the decimal part.\n",
        "float_number = 3.14\n",
        "int_number = int(float_number)  # int_number is 3\n",
        "\n",
        "#From String: Converts a numeric string to an integer. The string must be a valid integer representation.\n",
        "str_number = \"42\"\n",
        "int_number = int(str_number)  # int_number is 42"
      ],
      "metadata": {
        "id": "SGCYzZRU1fxd"
      },
      "execution_count": null,
      "outputs": []
    },
    {
      "cell_type": "code",
      "source": [
        "#Example:\n",
        "print(int(5.9))\n",
        "print(int(\"123\"))"
      ],
      "metadata": {
        "colab": {
          "base_uri": "https://localhost:8080/"
        },
        "id": "LRvdwqmf1ihk",
        "outputId": "2ba6eaab-87de-4967-cefe-81c34f8aec76"
      },
      "execution_count": null,
      "outputs": [
        {
          "output_type": "stream",
          "name": "stdout",
          "text": [
            "5\n",
            "123\n"
          ]
        }
      ]
    },
    {
      "cell_type": "code",
      "source": [
        "#2. Float (float)>> Converts a value to a floating-point number.\n",
        "#From Integer: Converts an integer to a float.\n",
        "int_number = 5\n",
        "float_number = float(int_number)  # float_number is 5.0\n",
        "\n",
        "#From String: Converts a numeric string to a float. The string must be a valid float representation.\n",
        "str_number = \"3.14\"\n",
        "float_number = float(str_number)  # float_number is 3.14"
      ],
      "metadata": {
        "id": "ip24QyVH1mDV"
      },
      "execution_count": null,
      "outputs": []
    },
    {
      "cell_type": "code",
      "source": [
        "#Example:\n",
        "print(float(10))\n",
        "print(float(\"2.718\"))"
      ],
      "metadata": {
        "colab": {
          "base_uri": "https://localhost:8080/"
        },
        "id": "N-pmzgHp1pRt",
        "outputId": "15c6ec9e-7a84-4b62-812e-2ec19e2987de"
      },
      "execution_count": null,
      "outputs": [
        {
          "output_type": "stream",
          "name": "stdout",
          "text": [
            "10.0\n",
            "2.718\n"
          ]
        }
      ]
    },
    {
      "cell_type": "code",
      "source": [
        "#3. String (str)>> Converts a value to a string.\n",
        "#From Integer: Converts an integer to a string.\n",
        "int_number = 42\n",
        "str_number = str(int_number)  # str_number is \"42\"\n",
        "\n",
        "#From Float: Converts a floating-point number to a string.\n",
        "float_number = 3.14\n",
        "str_number = str(float_number)  # str_number is \"3.14\""
      ],
      "metadata": {
        "id": "s18whaSR1tVk"
      },
      "execution_count": null,
      "outputs": []
    },
    {
      "cell_type": "code",
      "source": [
        "#Example:\n",
        "print(str(123))\n",
        "print(str(98.6))"
      ],
      "metadata": {
        "colab": {
          "base_uri": "https://localhost:8080/"
        },
        "id": "s5dV3_wF1wqt",
        "outputId": "b721b734-da39-4c14-bc19-b4ee00f028ca"
      },
      "execution_count": null,
      "outputs": [
        {
          "output_type": "stream",
          "name": "stdout",
          "text": [
            "123\n",
            "98.6\n"
          ]
        }
      ]
    },
    {
      "cell_type": "code",
      "source": [
        "#4. List (list)>> Converts an iterable (like a string or tuple) to a list.\n",
        "#From String: Converts a string into a list of characters.\n",
        "str_value = \"hello\"\n",
        "list_value = list(str_value)  # list_value is ['h', 'e', 'l', 'l', 'o']\n",
        "\n",
        "#From Tuple: Converts a tuple to a list.\n",
        "tuple_value = (1, 2, 3)\n",
        "list_value = list(tuple_value)  # list_value is [1, 2, 3]"
      ],
      "metadata": {
        "id": "k9kNXgPw14ts"
      },
      "execution_count": null,
      "outputs": []
    },
    {
      "cell_type": "code",
      "source": [
        "#Example:\n",
        "print(list(\"abc\"))\n",
        "print(list((1, 2, 3)))"
      ],
      "metadata": {
        "colab": {
          "base_uri": "https://localhost:8080/"
        },
        "id": "xAJX0Fzi19eV",
        "outputId": "48444a84-164a-43e5-c4c7-08d285efd400"
      },
      "execution_count": null,
      "outputs": [
        {
          "output_type": "stream",
          "name": "stdout",
          "text": [
            "['a', 'b', 'c']\n",
            "[1, 2, 3]\n"
          ]
        }
      ]
    },
    {
      "cell_type": "code",
      "source": [
        "#5. Tuple (tuple)>> Converts an iterable to a tuple.\n",
        "#From List: Converts a list to a tuple.\n",
        "list_value = [1, 2, 3]\n",
        "tuple_value = tuple(list_value)  # tuple_value is (1, 2, 3)\n",
        "\n",
        "#From String: Converts a string into a tuple of characters.\n",
        "str_value = \"hello\"\n",
        "tuple_value = tuple(str_value)  # tuple_value is ('h', 'e', 'l', 'l', 'o')"
      ],
      "metadata": {
        "id": "Ls8Xiq042BBk"
      },
      "execution_count": null,
      "outputs": []
    },
    {
      "cell_type": "code",
      "source": [
        "#Example:\n",
        "print(tuple([1, 2, 3]))\n",
        "print(tuple(\"abc\"))"
      ],
      "metadata": {
        "colab": {
          "base_uri": "https://localhost:8080/"
        },
        "id": "1Znb2m392Dz8",
        "outputId": "208a4b61-0280-4c75-b6fc-805e639803f0"
      },
      "execution_count": null,
      "outputs": [
        {
          "output_type": "stream",
          "name": "stdout",
          "text": [
            "(1, 2, 3)\n",
            "('a', 'b', 'c')\n"
          ]
        }
      ]
    },
    {
      "cell_type": "code",
      "source": [
        "#6. Set (set)>> Converts an iterable to a set.\n",
        "#From List: Converts a list to a set, removing duplicates.\n",
        "list_value = [1, 2, 2, 3]\n",
        "set_value = set(list_value)  # set_value is {1, 2, 3}\n",
        "\n",
        "#From String: Converts a string into a set of characters.\n",
        "str_value = \"hello\"\n",
        "set_value = set(str_value)  # set_value is {'h', 'e', 'l', 'o'}"
      ],
      "metadata": {
        "id": "ycGgYODK2Hac"
      },
      "execution_count": null,
      "outputs": []
    },
    {
      "cell_type": "code",
      "source": [
        "#Example:\n",
        "print(set([1, 2, 2, 3]))\n",
        "print(set(\"hello\"))"
      ],
      "metadata": {
        "colab": {
          "base_uri": "https://localhost:8080/"
        },
        "id": "45lZk-v82KpU",
        "outputId": "69e4da67-fb6c-4e2b-bfcd-c5f559195001"
      },
      "execution_count": null,
      "outputs": [
        {
          "output_type": "stream",
          "name": "stdout",
          "text": [
            "{1, 2, 3}\n",
            "{'h', 'e', 'l', 'o'}\n"
          ]
        }
      ]
    },
    {
      "cell_type": "markdown",
      "source": [
        "# **Q.6 How do conditional statements work in Python? Illustrate with examples.**\n",
        "\n",
        "**Ans.** Conditional statements in Python allow to execute code based on certain conditions. They are fundamental for making decisions in your code. The primary conditional statements are if, elif, and else. Here's how they work, with examples:\n",
        "\n",
        "  **Basic Structure-**\n",
        "\n",
        "          1. if Statement: Evaluates a condition and executes the block of code if the condition is True.\n",
        "          2. elif Statement: Short for \"else if,\" this statement allows you to check multiple conditions. It’s used after an if statement if you have additional conditions to check.\n",
        "          3. else Statement: Executes a block of code if none of the preceding conditions are True.\n",
        "\n",
        " **Example:-**\n",
        " :"
      ],
      "metadata": {
        "id": "XP53O6pr2O3W"
      }
    },
    {
      "cell_type": "code",
      "source": [
        "#syntax\n",
        "if condition1:\n",
        "    # Block of code to execute if condition1 is True\n",
        "elif condition2:\n",
        "    # Block of code to execute if condition1 is False and condition2 is True\n",
        "else:\n",
        "    # Block of code to execute if none of the above conditions are True"
      ],
      "metadata": {
        "id": "1zUC0Obp3gs0"
      },
      "execution_count": null,
      "outputs": []
    },
    {
      "cell_type": "code",
      "source": [
        "#Example 1: Basic If-Else\n",
        "number = 7\n",
        "\n",
        "if number > 0:\n",
        "    print(\"The number is positive.\")\n",
        "elif number < 0:\n",
        "    print(\"The number is negative.\")\n",
        "else:\n",
        "    print(\"The number is zero.\")"
      ],
      "metadata": {
        "colab": {
          "base_uri": "https://localhost:8080/"
        },
        "id": "tbiwb1qq3m9N",
        "outputId": "6dd3d66b-2c06-4bde-b25f-4ebfa2ad4e58"
      },
      "execution_count": null,
      "outputs": [
        {
          "output_type": "stream",
          "name": "stdout",
          "text": [
            "The number is positive.\n"
          ]
        }
      ]
    },
    {
      "cell_type": "code",
      "source": [
        "#Example 2: Nested If Statements\n",
        "number = 10\n",
        "\n",
        "if number > 0:\n",
        "    if number % 2 == 0:\n",
        "        print(\"The number is positive and even.\")\n",
        "    else:\n",
        "        print(\"The number is positive and odd.\")\n",
        "else:\n",
        "    print(\"The number is not positive.\")"
      ],
      "metadata": {
        "colab": {
          "base_uri": "https://localhost:8080/"
        },
        "id": "aE34Ul883qql",
        "outputId": "b70e33cd-655c-41e4-ec2b-d2ba4c010011"
      },
      "execution_count": null,
      "outputs": [
        {
          "output_type": "stream",
          "name": "stdout",
          "text": [
            "The number is positive and even.\n"
          ]
        }
      ]
    },
    {
      "cell_type": "code",
      "source": [
        "#Example 3: Using elif for Multiple Conditions\n",
        "score = 85\n",
        "\n",
        "if score >= 90:\n",
        "    print(\"Grade: A\")\n",
        "elif score >= 80:\n",
        "    print(\"Grade: B\")\n",
        "elif score >= 70:\n",
        "    print(\"Grade: C\")\n",
        "elif score >= 60:\n",
        "    print(\"Grade: D\")\n",
        "else:\n",
        "    print(\"Grade: F\")"
      ],
      "metadata": {
        "colab": {
          "base_uri": "https://localhost:8080/"
        },
        "id": "n0I7XVah3ucd",
        "outputId": "393e104b-9089-41e4-daa6-7a1751c1fc3c"
      },
      "execution_count": null,
      "outputs": [
        {
          "output_type": "stream",
          "name": "stdout",
          "text": [
            "Grade: B\n"
          ]
        }
      ]
    },
    {
      "cell_type": "code",
      "source": [
        "#Example 4: Combining Conditions with Logical Operators\n",
        "age = 25\n",
        "has_id = True\n",
        "\n",
        "if age >= 18 and has_id:\n",
        "    print(\"You are allowed to enter.\")\n",
        "else:\n",
        "    print(\"You are not allowed to enter.\")"
      ],
      "metadata": {
        "colab": {
          "base_uri": "https://localhost:8080/"
        },
        "id": "Qc-4CWMY3xiG",
        "outputId": "d4058415-1a8c-4397-c04f-43aeaa32b900"
      },
      "execution_count": null,
      "outputs": [
        {
          "output_type": "stream",
          "name": "stdout",
          "text": [
            "You are allowed to enter.\n"
          ]
        }
      ]
    },
    {
      "cell_type": "markdown",
      "source": [
        "# **Q.7 Describe the different types of loops in Python and their use cases with examples.**\n",
        "\n",
        "**Ans.** In Python, loops are used to execute a block of code repeatedly based on a condition. Python provides several types of loops:\n",
        "\n",
        "1. **for Loop** : The ‘for’ loop is used for iterating over a sequence (such as a list, tuple, string, or range) and executing a block of code for each item in the sequence.\n",
        "2. **while Loop** : The ‘while loop’ repeatedly executes a block of code as long as a condition remains True. It is useful when you do not know in advance how many times you need to iterate.\n",
        "3. **break Statement** : The ‘break statement’ is used to exit a loop prematurely. It can be used in both for and while loops.\n",
        "4. **continue Statement** : The ‘continue statement’ skips the rest of the code inside the loop for the current iteration and jumps to the next iteration of the loop.\n",
        "5. **else Clause with Loops** : Both ‘for’ and ‘while loops’ can have an ‘else clause’ that is executed when the loop terminates normally (not by a break statement).  \n",
        "\n",
        "**Examples**:\n",
        "\n"
      ],
      "metadata": {
        "id": "luIEW5Qk328M"
      }
    },
    {
      "cell_type": "code",
      "source": [
        "#1. for Loop\n",
        "for variable in sequence:\n",
        "    # Block of code"
      ],
      "metadata": {
        "id": "Pdp8SBI644Sk"
      },
      "execution_count": null,
      "outputs": []
    },
    {
      "cell_type": "code",
      "source": [
        "#Iterating Over a List\n",
        "fruits = [\"apple\", \"banana\", \"cherry\"]\n",
        "\n",
        "for fruit in fruits:\n",
        "    print(fruit)"
      ],
      "metadata": {
        "colab": {
          "base_uri": "https://localhost:8080/"
        },
        "id": "VE3br5pn5Bfu",
        "outputId": "45aa2f52-1889-4005-e982-36dde3280977"
      },
      "execution_count": null,
      "outputs": [
        {
          "output_type": "stream",
          "name": "stdout",
          "text": [
            "apple\n",
            "banana\n",
            "cherry\n"
          ]
        }
      ]
    },
    {
      "cell_type": "code",
      "source": [
        "#Using range() for Iteration\n",
        "for i in range(5):\n",
        "    print(i)"
      ],
      "metadata": {
        "colab": {
          "base_uri": "https://localhost:8080/"
        },
        "id": "_nxGTtzB5EsN",
        "outputId": "1a216063-f548-47bf-d2bc-fcf3c5c951f7"
      },
      "execution_count": null,
      "outputs": [
        {
          "output_type": "stream",
          "name": "stdout",
          "text": [
            "0\n",
            "1\n",
            "2\n",
            "3\n",
            "4\n"
          ]
        }
      ]
    },
    {
      "cell_type": "code",
      "source": [
        "#Iterating Over a String\n",
        "for char in \"puspendu\":\n",
        "    print(char)"
      ],
      "metadata": {
        "colab": {
          "base_uri": "https://localhost:8080/"
        },
        "id": "-D3AmPWd5I_U",
        "outputId": "0c085156-3a2d-416a-81b4-21b3757ad21c"
      },
      "execution_count": null,
      "outputs": [
        {
          "output_type": "stream",
          "name": "stdout",
          "text": [
            "p\n",
            "u\n",
            "s\n",
            "p\n",
            "e\n",
            "n\n",
            "d\n",
            "u\n"
          ]
        }
      ]
    },
    {
      "cell_type": "code",
      "source": [
        "#2. while Loop\n",
        "while condition:\n",
        "    # Block of code"
      ],
      "metadata": {
        "id": "pYMUVSOC5Q1U"
      },
      "execution_count": null,
      "outputs": []
    },
    {
      "cell_type": "code",
      "source": [
        "#Basic While Loop\n",
        "count = 0\n",
        "\n",
        "while count < 5:\n",
        "    print(count)\n",
        "    count += 1"
      ],
      "metadata": {
        "colab": {
          "base_uri": "https://localhost:8080/"
        },
        "id": "vrwj4bxQ5ljk",
        "outputId": "b30a90ac-ecc2-43db-cc72-8dd678df94ce"
      },
      "execution_count": null,
      "outputs": [
        {
          "output_type": "stream",
          "name": "stdout",
          "text": [
            "0\n",
            "1\n",
            "2\n",
            "3\n",
            "4\n"
          ]
        }
      ]
    },
    {
      "cell_type": "code",
      "source": [
        "#Using While Loop with a Break Condition\n",
        "number = 1\n",
        "\n",
        "while True:\n",
        "    print(number)\n",
        "    if number >= 5:\n",
        "        break\n",
        "    number += 1"
      ],
      "metadata": {
        "colab": {
          "base_uri": "https://localhost:8080/"
        },
        "id": "HGF_kmRn5tX8",
        "outputId": "566347b7-2443-4c26-b473-ab11c1005336"
      },
      "execution_count": null,
      "outputs": [
        {
          "output_type": "stream",
          "name": "stdout",
          "text": [
            "1\n",
            "2\n",
            "3\n",
            "4\n",
            "5\n"
          ]
        }
      ]
    },
    {
      "cell_type": "code",
      "source": [
        "#3. break Statement\n",
        "for i in range(10):\n",
        "    if i == 5:\n",
        "        break\n",
        "    print(i)"
      ],
      "metadata": {
        "colab": {
          "base_uri": "https://localhost:8080/"
        },
        "id": "vvGuUavB6ION",
        "outputId": "96f3ed5a-31a6-4e97-854e-a668cc775a0e"
      },
      "execution_count": null,
      "outputs": [
        {
          "output_type": "stream",
          "name": "stdout",
          "text": [
            "0\n",
            "1\n",
            "2\n",
            "3\n",
            "4\n"
          ]
        }
      ]
    },
    {
      "cell_type": "code",
      "source": [
        "#4. continue Statement\n",
        "for i in range(10):\n",
        "    if i % 2 == 0:\n",
        "        continue\n",
        "    print(i)"
      ],
      "metadata": {
        "colab": {
          "base_uri": "https://localhost:8080/"
        },
        "id": "hpEG0auJ6Mo0",
        "outputId": "3fa7975a-0511-4564-d6c9-fd1894af1643"
      },
      "execution_count": null,
      "outputs": [
        {
          "output_type": "stream",
          "name": "stdout",
          "text": [
            "1\n",
            "3\n",
            "5\n",
            "7\n",
            "9\n"
          ]
        }
      ]
    },
    {
      "cell_type": "code",
      "source": [
        "#5. else Clause with Loops\n",
        "#Example with for Loop\n",
        "for i in range(5):\n",
        "    print(i)\n",
        "else:\n",
        "    print(\"Loop finished without break.\")"
      ],
      "metadata": {
        "colab": {
          "base_uri": "https://localhost:8080/"
        },
        "id": "KARa_NMd6Qw8",
        "outputId": "bb6d9607-fde8-42a8-c644-5d000ed15e4a"
      },
      "execution_count": null,
      "outputs": [
        {
          "output_type": "stream",
          "name": "stdout",
          "text": [
            "0\n",
            "1\n",
            "2\n",
            "3\n",
            "4\n",
            "Loop finished without break.\n"
          ]
        }
      ]
    },
    {
      "cell_type": "code",
      "source": [
        "#Example with while Loop\n",
        "count = 0\n",
        "while count < 5:\n",
        "    print(count)\n",
        "    count += 1\n",
        "else:\n",
        "    print(\"Loop finished without break.\")"
      ],
      "metadata": {
        "colab": {
          "base_uri": "https://localhost:8080/"
        },
        "id": "EUodhy5U6WYE",
        "outputId": "39f67655-f8f3-4b2e-ea90-b13bb245c8b0"
      },
      "execution_count": null,
      "outputs": [
        {
          "output_type": "stream",
          "name": "stdout",
          "text": [
            "0\n",
            "1\n",
            "2\n",
            "3\n",
            "4\n",
            "Loop finished without break.\n"
          ]
        }
      ]
    }
  ]
}